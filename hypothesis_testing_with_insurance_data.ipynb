{
 "cells": [
  {
   "cell_type": "markdown",
   "id": "01e37f0e",
   "metadata": {},
   "source": [
    "# Hypothesis Testing with Insurance Data"
   ]
  },
  {
   "cell_type": "markdown",
   "id": "83f5ac5d",
   "metadata": {},
   "source": [
    "Work with the US Health Insurance Dataset (1) from Kaggle (2).\n",
    "\n",
    "(1)\n",
    "https://docs.google.com/spreadsheets/d/e/2PACX-1vQBN8DPW2rdiRrY34eEM53HAzakNGSRrw4ogI-j8HyCUrbqTB_z4CeIn2IvjLF-w_6sOe5pIlypJGAA/pub?output=csv\n",
    "\n",
    "(2)\n",
    "https://www.kaggle.com/teertha/ushealthinsurancedataset\n",
    "\n",
    "Answer the following questions:\n",
    "\n",
    "- Q1. Do smokers have higher insurance charges than non-smokers?\n",
    "- Q2. Are men more likely to smoke than women?\n",
    "- Q3. Do different regions have different charges, on average?\n",
    "\n",
    "For each question, make sure to:\n",
    "\n",
    "1. State your Null Hypothesis and Alternative Hypothesis\n",
    "2. Select the correct test according to the data type and number of samples\n",
    "3. Test the assumptions of your selected test.\n",
    "4. Execute the selected test, or the alternative test (if you do not meet the assumptions)\n",
    "5. Interpret your p-value and reject or fail to reject your null hypothesis \n",
    "6. Show a supporting visualization that helps display the result"
   ]
  },
  {
   "cell_type": "markdown",
   "id": "62f1c419",
   "metadata": {},
   "source": [
    "# 1. Preliminary Steps"
   ]
  },
  {
   "cell_type": "code",
   "execution_count": 16,
   "id": "83835d11",
   "metadata": {},
   "outputs": [],
   "source": [
    "# imports\n",
    "import pandas as pd\n",
    "import numpy as np\n",
    "import matplotlib.pyplot as plt\n",
    "import seaborn as sns\n",
    "import scipy.stats as stats"
   ]
  },
  {
   "cell_type": "code",
   "execution_count": 17,
   "id": "c30b9070",
   "metadata": {},
   "outputs": [
    {
     "data": {
      "text/html": [
       "<div>\n",
       "<style scoped>\n",
       "    .dataframe tbody tr th:only-of-type {\n",
       "        vertical-align: middle;\n",
       "    }\n",
       "\n",
       "    .dataframe tbody tr th {\n",
       "        vertical-align: top;\n",
       "    }\n",
       "\n",
       "    .dataframe thead th {\n",
       "        text-align: right;\n",
       "    }\n",
       "</style>\n",
       "<table border=\"1\" class=\"dataframe\">\n",
       "  <thead>\n",
       "    <tr style=\"text-align: right;\">\n",
       "      <th></th>\n",
       "      <th>age</th>\n",
       "      <th>sex</th>\n",
       "      <th>bmi</th>\n",
       "      <th>children</th>\n",
       "      <th>smoker</th>\n",
       "      <th>region</th>\n",
       "      <th>charges</th>\n",
       "    </tr>\n",
       "  </thead>\n",
       "  <tbody>\n",
       "    <tr>\n",
       "      <th>0</th>\n",
       "      <td>19</td>\n",
       "      <td>female</td>\n",
       "      <td>27.900</td>\n",
       "      <td>0</td>\n",
       "      <td>yes</td>\n",
       "      <td>southwest</td>\n",
       "      <td>16884.92400</td>\n",
       "    </tr>\n",
       "    <tr>\n",
       "      <th>1</th>\n",
       "      <td>18</td>\n",
       "      <td>male</td>\n",
       "      <td>33.770</td>\n",
       "      <td>1</td>\n",
       "      <td>no</td>\n",
       "      <td>southeast</td>\n",
       "      <td>1725.55230</td>\n",
       "    </tr>\n",
       "    <tr>\n",
       "      <th>2</th>\n",
       "      <td>28</td>\n",
       "      <td>male</td>\n",
       "      <td>33.000</td>\n",
       "      <td>3</td>\n",
       "      <td>no</td>\n",
       "      <td>southeast</td>\n",
       "      <td>4449.46200</td>\n",
       "    </tr>\n",
       "    <tr>\n",
       "      <th>3</th>\n",
       "      <td>33</td>\n",
       "      <td>male</td>\n",
       "      <td>22.705</td>\n",
       "      <td>0</td>\n",
       "      <td>no</td>\n",
       "      <td>northwest</td>\n",
       "      <td>21984.47061</td>\n",
       "    </tr>\n",
       "    <tr>\n",
       "      <th>4</th>\n",
       "      <td>32</td>\n",
       "      <td>male</td>\n",
       "      <td>28.880</td>\n",
       "      <td>0</td>\n",
       "      <td>no</td>\n",
       "      <td>northwest</td>\n",
       "      <td>3866.85520</td>\n",
       "    </tr>\n",
       "  </tbody>\n",
       "</table>\n",
       "</div>"
      ],
      "text/plain": [
       "   age     sex     bmi  children smoker     region      charges\n",
       "0   19  female  27.900         0    yes  southwest  16884.92400\n",
       "1   18    male  33.770         1     no  southeast   1725.55230\n",
       "2   28    male  33.000         3     no  southeast   4449.46200\n",
       "3   33    male  22.705         0     no  northwest  21984.47061\n",
       "4   32    male  28.880         0     no  northwest   3866.85520"
      ]
     },
     "execution_count": 17,
     "metadata": {},
     "output_type": "execute_result"
    }
   ],
   "source": [
    "# load data\n",
    "url = 'https://docs.google.com/spreadsheets/d/e/2PACX-1vQBN8DPW2rdiRrY34eEM53HAzakNGSRrw4ogI-j8HyCUrbqTB_z4CeIn2IvjLF-w_6sOe5pIlypJGAA/pub?output=csv'\n",
    "df = pd.read_csv(url)\n",
    "df.head()"
   ]
  },
  {
   "cell_type": "markdown",
   "id": "47b98522",
   "metadata": {},
   "source": [
    "# 2. Do smokers have higher insurance charges than non-smokers?"
   ]
  },
  {
   "cell_type": "code",
   "execution_count": 18,
   "id": "d074c7b6",
   "metadata": {},
   "outputs": [
    {
     "data": {
      "text/plain": [
       "no     1064\n",
       "yes     274\n",
       "Name: smoker, dtype: int64"
      ]
     },
     "execution_count": 18,
     "metadata": {},
     "output_type": "execute_result"
    }
   ],
   "source": [
    "# how many smokers and non-smokers?\n",
    "df['smoker'].value_counts()"
   ]
  },
  {
   "cell_type": "code",
   "execution_count": 19,
   "id": "38f8f418",
   "metadata": {},
   "outputs": [],
   "source": [
    "# split into groups\n",
    "smokers_df = df.loc[df['smoker'] == 'yes'].copy()\n",
    "nonsmokers_df = df.loc[df['smoker'] == 'no'].copy()"
   ]
  },
  {
   "cell_type": "code",
   "execution_count": 20,
   "id": "e87d2f7e",
   "metadata": {},
   "outputs": [],
   "source": [
    "# define variable 'charges' for each group\n",
    "smokers_charges = smokers_df['charges']\n",
    "nonsmokers_charges = nonsmokers_df['charges']"
   ]
  },
  {
   "cell_type": "markdown",
   "id": "81a8197b",
   "metadata": {},
   "source": [
    "## 2.1 Hypotheses\n",
    "\n",
    "Null: Smokers and non-smokers have the same insurance charges.\n",
    "\n",
    "Alternative: Smokers and non-smokers have significantly different insurance charges.\n",
    "\n",
    "Alpha: 0.05"
   ]
  },
  {
   "cell_type": "markdown",
   "id": "43f3d0a3",
   "metadata": {},
   "source": [
    "## 2.2 Select Test\n",
    "\n",
    "Data: Numeric\n",
    "\n",
    "Samples/groups: 2\n",
    "\n",
    "Test: 2 Sample T-Test (Independent T-Test)"
   ]
  },
  {
   "cell_type": "markdown",
   "id": "2013c4f9",
   "metadata": {},
   "source": [
    "## 2.3 Test Assumptions\n",
    "\n",
    "1. No significant outliers\n",
    "2. Normality\n",
    "3. Equal variance"
   ]
  },
  {
   "cell_type": "code",
   "execution_count": 21,
   "id": "62c89c5e",
   "metadata": {},
   "outputs": [
    {
     "name": "stdout",
     "output_type": "stream",
     "text": [
      "Outliers for smokers: 0\n",
      "Outliers for nonsmokers: 24\n"
     ]
    }
   ],
   "source": [
    "# check for and remove outliers\n",
    "\n",
    "# smokers\n",
    "zscores = stats.zscore(smokers_charges)\n",
    "outliers = abs(zscores) > 3\n",
    "print(f\"Outliers for smokers: {np.sum(outliers)}\")\n",
    "\n",
    "# nonsmokers\n",
    "zscores = stats.zscore(nonsmokers_charges)\n",
    "outliers = abs(zscores) > 3\n",
    "print(f\"Outliers for nonsmokers: {np.sum(outliers)}\")"
   ]
  },
  {
   "cell_type": "code",
   "execution_count": 22,
   "id": "dffdf193",
   "metadata": {},
   "outputs": [
    {
     "name": "stdout",
     "output_type": "stream",
     "text": [
      "Outliers for nonsmokers: 19\n"
     ]
    }
   ],
   "source": [
    "# remove outliers for nonsmokers\n",
    "nonsmokers_charges = nonsmokers_charges[(np.abs(stats.zscore(nonsmokers_charges)) < 3)]\n",
    "\n",
    "zscores = stats.zscore(nonsmokers_charges)\n",
    "outliers = abs(zscores) > 3\n",
    "print(f\"Outliers for nonsmokers: {np.sum(outliers)}\")"
   ]
  },
  {
   "cell_type": "code",
   "execution_count": 23,
   "id": "f8c6f365",
   "metadata": {},
   "outputs": [
    {
     "name": "stdout",
     "output_type": "stream",
     "text": [
      "NormaltestResult(statistic=61.03941356533816, pvalue=5.564930630036463e-14)\n",
      "NormaltestResult(statistic=163.80367047789198, pvalue=2.6945416315543976e-36)\n"
     ]
    }
   ],
   "source": [
    "# check for normality\n",
    "\n",
    "# smokers\n",
    "result_smokers_charges = stats.normaltest(smokers_charges)\n",
    "print(result_smokers_charges)\n",
    "\n",
    "# nonsmokers\n",
    "result_nonsmokers_charges = stats.normaltest(nonsmokers_charges)\n",
    "print(result_nonsmokers_charges)"
   ]
  },
  {
   "cell_type": "markdown",
   "id": "48fa7d6c",
   "metadata": {},
   "source": [
    "The p-values for the normality tests for both the smokers and nonsmokers' charges are below our chosen alpha value of 0.05, so we will reject the null hypothesis that these groups are normally distributed. \n",
    "\n",
    "This means that we will consider our data to NOT be normally distributed.\n",
    "\n",
    "The need for normally-distributed data can be skipped if there are more than 15 samples in both groups. We have many more samples than that in our data (reproduced below), so we will move on."
   ]
  },
  {
   "cell_type": "code",
   "execution_count": 24,
   "id": "8e9b1c17",
   "metadata": {},
   "outputs": [
    {
     "data": {
      "text/plain": [
       "no     1064\n",
       "yes     274\n",
       "Name: smoker, dtype: int64"
      ]
     },
     "execution_count": 24,
     "metadata": {},
     "output_type": "execute_result"
    }
   ],
   "source": [
    "# how many smokers and non-smokers?\n",
    "df['smoker'].value_counts()"
   ]
  },
  {
   "cell_type": "code",
   "execution_count": 25,
   "id": "115ae22e",
   "metadata": {},
   "outputs": [
    {
     "data": {
      "text/plain": [
       "LeveneResult(statistic=520.7468821724297, pvalue=2.4247238784347824e-97)"
      ]
     },
     "execution_count": 25,
     "metadata": {},
     "output_type": "execute_result"
    }
   ],
   "source": [
    "# check for equal variance\n",
    "result = stats.levene(smokers_charges, nonsmokers_charges)\n",
    "result"
   ]
  },
  {
   "cell_type": "markdown",
   "id": "0222ba9f",
   "metadata": {},
   "source": [
    "The p-value for our equal variance test is below our chosen alpha value of 0.05, so we will reject the null hypothesis that these groups have equal variances.\n",
    "\n",
    "This means that we will consider these two groups to have UNEQUAL (different) variances.\n",
    "\n",
    "To combat this, we will include the argument \"equal_var = False\" in our test."
   ]
  },
  {
   "cell_type": "markdown",
   "id": "fda0b7bb",
   "metadata": {},
   "source": [
    "## 2.4 Execute Test"
   ]
  },
  {
   "cell_type": "code",
   "execution_count": 26,
   "id": "64b100fe",
   "metadata": {},
   "outputs": [
    {
     "data": {
      "text/plain": [
       "Ttest_indResult(statistic=33.732305987092516, pvalue=2.575322662587431e-104)"
      ]
     },
     "execution_count": 26,
     "metadata": {},
     "output_type": "execute_result"
    }
   ],
   "source": [
    "# independent (2-sample) t-test with equal_var = False\n",
    "result = stats.ttest_ind(smokers_charges, nonsmokers_charges,\n",
    "                        equal_var = False)\n",
    "result"
   ]
  },
  {
   "cell_type": "markdown",
   "id": "37c911c0",
   "metadata": {},
   "source": [
    "## 2.5 p-value Interpretation"
   ]
  },
  {
   "cell_type": "markdown",
   "id": "079f629d",
   "metadata": {},
   "source": [
    "The p-value for our T-Test is below our chosen alpha value of 0.05, so we will reject the null hypothesis that smokers and nonsmokers have equal insurance charges. \n",
    "\n",
    "This means that we will consider smokers and nonsmokers to have UNEQUAL insurance charges."
   ]
  },
  {
   "cell_type": "markdown",
   "id": "6b91e97e",
   "metadata": {},
   "source": [
    "## 2.6 Supporting Visualization"
   ]
  },
  {
   "cell_type": "code",
   "execution_count": 30,
   "id": "49ec0c04",
   "metadata": {},
   "outputs": [
    {
     "data": {
      "image/png": "[encoded data removed]",
      "text/plain": [
       "<Figure size 1000x500 with 2 Axes>"
      ]
     },
     "metadata": {},
     "output_type": "display_data"
    }
   ],
   "source": [
    "# specify colors\n",
    "groups_palette={'yes': 'dodgerblue', \n",
    "                \"no\": 'salmon'}\n",
    "\n",
    "# visualize means\n",
    "fig, (ax, ax_bar) = plt.subplots(figsize = (10, 5), \n",
    "                                 ncols = 2, \n",
    "                                 constrained_layout = True,\n",
    "                                 gridspec_kw = {'width_ratios': [0.8, 0.2]})\n",
    "\n",
    "# histogram\n",
    "ax = sns.histplot(data = df, \n",
    "                  x = 'charges', \n",
    "                  fill = True, \n",
    "                  hue = 'smoker', \n",
    "                  kde = True, \n",
    "                  stat = 'density', \n",
    "                  common_norm = False,\n",
    "                  ax = ax, \n",
    "                  palette = groups_palette)\n",
    "\n",
    "ax.axvline(np.mean(smokers_charges), \n",
    "           ls = '--',\n",
    "           lw = 3, \n",
    "           label = f\"Smokers (Mean = {np.mean(smokers_charges): .2f})\",\n",
    "           color = groups_palette['yes'])\n",
    "\n",
    "ax.axvline(np.mean(nonsmokers_charges), \n",
    "           ls = '--', \n",
    "           lw = 3, \n",
    "           label = f\"Nonsmokers (Mean = {np.mean(nonsmokers_charges): .2f})\",\n",
    "           color = groups_palette['no'])\n",
    "\n",
    "ax.legend(prop = {\"size\": 14}, \n",
    "          loc = 'upper right') #bbox_to_anchor=[1,1])\n",
    "\n",
    "# barplot\n",
    "sns.barplot(data = df, \n",
    "            x = 'smoker', \n",
    "            y = 'charges',\n",
    "            ax = ax_bar,\n",
    "            palette = groups_palette)\n",
    "\n",
    "fig.suptitle('Comparison of Charges by Smoking Status',\n",
    "             fontsize = 'xx-large');"
   ]
  },
  {
   "cell_type": "markdown",
   "id": "ed5fb928",
   "metadata": {
    "heading_collapsed": true
   },
   "source": [
    "# 3. Are men more likely to smoke than women?"
   ]
  },
  {
   "cell_type": "markdown",
   "id": "d44756b5",
   "metadata": {
    "hidden": true
   },
   "source": [
    "## 3.1 Hypotheses\n",
    "\n",
    "Null:\n",
    "\n",
    "Alternative:"
   ]
  },
  {
   "cell_type": "markdown",
   "id": "58d5f884",
   "metadata": {
    "hidden": true
   },
   "source": [
    "## 3.2 Select Test\n",
    "\n",
    "Data:\n",
    "\n",
    "Samples/groups:\n",
    "\n",
    "Test:"
   ]
  },
  {
   "cell_type": "markdown",
   "id": "41ba2fea",
   "metadata": {
    "hidden": true
   },
   "source": [
    "## 3.3 Test Assumptions"
   ]
  },
  {
   "cell_type": "markdown",
   "id": "f2d9740d",
   "metadata": {
    "hidden": true
   },
   "source": [
    "## 3.4 Execute Test"
   ]
  },
  {
   "cell_type": "markdown",
   "id": "2c7f9f7f",
   "metadata": {
    "hidden": true
   },
   "source": [
    "## 3.5 p-value Interpretation"
   ]
  },
  {
   "cell_type": "markdown",
   "id": "80a8d1fa",
   "metadata": {
    "hidden": true
   },
   "source": [
    "## 3.6 Supporting Visualization"
   ]
  },
  {
   "cell_type": "markdown",
   "id": "a1725c0a",
   "metadata": {
    "heading_collapsed": true
   },
   "source": [
    "# 4. Do different regions have different charges, on average?"
   ]
  },
  {
   "cell_type": "markdown",
   "id": "8798c741",
   "metadata": {
    "hidden": true
   },
   "source": [
    "## 4.1 Hypotheses\n",
    "\n",
    "Null:\n",
    "\n",
    "Alternative:"
   ]
  },
  {
   "cell_type": "markdown",
   "id": "4dcf2c37",
   "metadata": {
    "hidden": true
   },
   "source": [
    "## 4.2 Select Test\n",
    "\n",
    "Data:\n",
    "\n",
    "Samples/groups:\n",
    "\n",
    "Test:"
   ]
  },
  {
   "cell_type": "markdown",
   "id": "2ac6aa7e",
   "metadata": {
    "hidden": true
   },
   "source": [
    "## 4.3 Test Assumptions"
   ]
  },
  {
   "cell_type": "markdown",
   "id": "6afe60da",
   "metadata": {
    "hidden": true
   },
   "source": [
    "## 4.4 Execute Test"
   ]
  },
  {
   "cell_type": "markdown",
   "id": "990fbeae",
   "metadata": {
    "hidden": true
   },
   "source": [
    "## 4.5 p-value Interpretation"
   ]
  },
  {
   "cell_type": "markdown",
   "id": "090b63b3",
   "metadata": {
    "hidden": true
   },
   "source": [
    "## 4.6 Supporting Visualization"
   ]
  },
  {
   "cell_type": "code",
   "execution_count": null,
   "id": "26913b2d",
   "metadata": {
    "hidden": true
   },
   "outputs": [],
   "source": []
  }
 ],
 "metadata": {
  "kernelspec": {
   "display_name": "Python (dojo-env)",
   "language": "python",
   "name": "dojo-env"
  },
  "language_info": {
   "codemirror_mode": {
    "name": "ipython",
    "version": 3
   },
   "file_extension": ".py",
   "mimetype": "text/x-python",
   "name": "python",
   "nbconvert_exporter": "python",
   "pygments_lexer": "ipython3",
   "version": "3.9.15"
  },
  "toc": {
   "base_numbering": 1,
   "nav_menu": {},
   "number_sections": false,
   "sideBar": true,
   "skip_h1_title": false,
   "title_cell": "Table of Contents",
   "title_sidebar": "Contents",
   "toc_cell": false,
   "toc_position": {},
   "toc_section_display": true,
   "toc_window_display": false
  }
 },
 "nbformat": 4,
 "nbformat_minor": 5
}
