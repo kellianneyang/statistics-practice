{
 "cells": [
  {
   "cell_type": "markdown",
   "id": "68478aeb",
   "metadata": {},
   "source": [
    "# Hypothesis Testing with Insurance Data"
   ]
  },
  {
   "cell_type": "markdown",
   "id": "2e880de0",
   "metadata": {},
   "source": [
    "Work with the US Health Insurance Dataset (1) from Kaggle (2).\n",
    "\n",
    "(1)\n",
    "https://docs.google.com/spreadsheets/d/e/2PACX-1vQBN8DPW2rdiRrY34eEM53HAzakNGSRrw4ogI-j8HyCUrbqTB_z4CeIn2IvjLF-w_6sOe5pIlypJGAA/pub?output=csv\n",
    "\n",
    "(2)\n",
    "https://www.kaggle.com/teertha/ushealthinsurancedataset\n",
    "\n",
    "Answer the following questions:\n",
    "\n",
    "- Q1. Do smokers have higher insurance charges than non-smokers?\n",
    "- Q2. Are men more likely to smoke than women?\n",
    "- Q3. Do different regions have different charges, on average?\n",
    "\n",
    "For each question, make sure to:\n",
    "\n",
    "1. State your Null Hypothesis and Alternative Hypothesis\n",
    "2. Select the correct test according to the data type and number of samples\n",
    "3. Test the assumptions of your selected test.\n",
    "4. Execute the selected test, or the alternative test (if you do not meet the assumptions)\n",
    "5. Interpret your p-value and reject or fail to reject your null hypothesis \n",
    "6. Show a supporting visualization that helps display the result"
   ]
  },
  {
   "cell_type": "markdown",
   "id": "d0a80d2f",
   "metadata": {
    "heading_collapsed": true
   },
   "source": [
    "# 1. Preliminary Steps"
   ]
  },
  {
   "cell_type": "code",
   "execution_count": 2,
   "id": "ec5fcc83",
   "metadata": {
    "hidden": true
   },
   "outputs": [],
   "source": [
    "# imports\n",
    "import pandas as pd"
   ]
  },
  {
   "cell_type": "code",
   "execution_count": 3,
   "id": "bf2cfc04",
   "metadata": {
    "hidden": true
   },
   "outputs": [
    {
     "data": {
      "text/html": [
       "<div>\n",
       "<style scoped>\n",
       "    .dataframe tbody tr th:only-of-type {\n",
       "        vertical-align: middle;\n",
       "    }\n",
       "\n",
       "    .dataframe tbody tr th {\n",
       "        vertical-align: top;\n",
       "    }\n",
       "\n",
       "    .dataframe thead th {\n",
       "        text-align: right;\n",
       "    }\n",
       "</style>\n",
       "<table border=\"1\" class=\"dataframe\">\n",
       "  <thead>\n",
       "    <tr style=\"text-align: right;\">\n",
       "      <th></th>\n",
       "      <th>age</th>\n",
       "      <th>sex</th>\n",
       "      <th>bmi</th>\n",
       "      <th>children</th>\n",
       "      <th>smoker</th>\n",
       "      <th>region</th>\n",
       "      <th>charges</th>\n",
       "    </tr>\n",
       "  </thead>\n",
       "  <tbody>\n",
       "    <tr>\n",
       "      <th>0</th>\n",
       "      <td>19</td>\n",
       "      <td>female</td>\n",
       "      <td>27.900</td>\n",
       "      <td>0</td>\n",
       "      <td>yes</td>\n",
       "      <td>southwest</td>\n",
       "      <td>16884.92400</td>\n",
       "    </tr>\n",
       "    <tr>\n",
       "      <th>1</th>\n",
       "      <td>18</td>\n",
       "      <td>male</td>\n",
       "      <td>33.770</td>\n",
       "      <td>1</td>\n",
       "      <td>no</td>\n",
       "      <td>southeast</td>\n",
       "      <td>1725.55230</td>\n",
       "    </tr>\n",
       "    <tr>\n",
       "      <th>2</th>\n",
       "      <td>28</td>\n",
       "      <td>male</td>\n",
       "      <td>33.000</td>\n",
       "      <td>3</td>\n",
       "      <td>no</td>\n",
       "      <td>southeast</td>\n",
       "      <td>4449.46200</td>\n",
       "    </tr>\n",
       "    <tr>\n",
       "      <th>3</th>\n",
       "      <td>33</td>\n",
       "      <td>male</td>\n",
       "      <td>22.705</td>\n",
       "      <td>0</td>\n",
       "      <td>no</td>\n",
       "      <td>northwest</td>\n",
       "      <td>21984.47061</td>\n",
       "    </tr>\n",
       "    <tr>\n",
       "      <th>4</th>\n",
       "      <td>32</td>\n",
       "      <td>male</td>\n",
       "      <td>28.880</td>\n",
       "      <td>0</td>\n",
       "      <td>no</td>\n",
       "      <td>northwest</td>\n",
       "      <td>3866.85520</td>\n",
       "    </tr>\n",
       "  </tbody>\n",
       "</table>\n",
       "</div>"
      ],
      "text/plain": [
       "   age     sex     bmi  children smoker     region      charges\n",
       "0   19  female  27.900         0    yes  southwest  16884.92400\n",
       "1   18    male  33.770         1     no  southeast   1725.55230\n",
       "2   28    male  33.000         3     no  southeast   4449.46200\n",
       "3   33    male  22.705         0     no  northwest  21984.47061\n",
       "4   32    male  28.880         0     no  northwest   3866.85520"
      ]
     },
     "execution_count": 3,
     "metadata": {},
     "output_type": "execute_result"
    }
   ],
   "source": [
    "# load data\n",
    "df = pd.read_csv('https://docs.google.com/spreadsheets/d/e/2PACX-1vQBN8DPW2rdiRrY34eEM53HAzakNGSRrw4ogI-j8HyCUrbqTB_z4CeIn2IvjLF-w_6sOe5pIlypJGAA/pub?output=csv')\n",
    "df.head()"
   ]
  },
  {
   "cell_type": "markdown",
   "id": "cfcd31e9",
   "metadata": {},
   "source": [
    "# 2. Do smokers have higher insurance charges than non-smokers?"
   ]
  },
  {
   "cell_type": "markdown",
   "id": "5ab5af36",
   "metadata": {},
   "source": [
    "## 2.1 Hypotheses\n",
    "\n",
    "Null:\n",
    "\n",
    "Alternative:"
   ]
  },
  {
   "cell_type": "markdown",
   "id": "d11efec4",
   "metadata": {},
   "source": [
    "## 2.2 Select Test\n",
    "\n",
    "Test:\n",
    "\n",
    "Reason:"
   ]
  },
  {
   "cell_type": "markdown",
   "id": "fc29c6a0",
   "metadata": {},
   "source": [
    "## 2.3 Test Assumptions"
   ]
  },
  {
   "cell_type": "markdown",
   "id": "68034608",
   "metadata": {},
   "source": [
    "## 2.4 Execute Test"
   ]
  },
  {
   "cell_type": "markdown",
   "id": "7fd25802",
   "metadata": {},
   "source": [
    "## 2.5 p-value Interpretation"
   ]
  },
  {
   "cell_type": "markdown",
   "id": "a4e929e3",
   "metadata": {},
   "source": [
    "## 2.6 Supporting Visualization"
   ]
  },
  {
   "cell_type": "markdown",
   "id": "bf65f739",
   "metadata": {
    "heading_collapsed": true
   },
   "source": [
    "# 3. Are men more likely to smoke than women?"
   ]
  },
  {
   "cell_type": "markdown",
   "id": "333cfc26",
   "metadata": {
    "hidden": true
   },
   "source": [
    "## 3.1 Hypotheses\n",
    "\n",
    "Null:\n",
    "\n",
    "Alternative:"
   ]
  },
  {
   "cell_type": "markdown",
   "id": "a4965bed",
   "metadata": {
    "hidden": true
   },
   "source": [
    "## 3.2 Select Test\n",
    "\n",
    "Test:\n",
    "\n",
    "Reason:"
   ]
  },
  {
   "cell_type": "markdown",
   "id": "79040779",
   "metadata": {
    "hidden": true
   },
   "source": [
    "## 3.3 Test Assumptions"
   ]
  },
  {
   "cell_type": "markdown",
   "id": "b37c7d9b",
   "metadata": {
    "hidden": true
   },
   "source": [
    "## 3.4 Execute Test"
   ]
  },
  {
   "cell_type": "markdown",
   "id": "1bb2ad92",
   "metadata": {
    "hidden": true
   },
   "source": [
    "## 3.5 p-value Interpretation"
   ]
  },
  {
   "cell_type": "markdown",
   "id": "882f94dd",
   "metadata": {
    "hidden": true
   },
   "source": [
    "## 3.6 Supporting Visualization"
   ]
  },
  {
   "cell_type": "markdown",
   "id": "e6caabde",
   "metadata": {
    "heading_collapsed": true
   },
   "source": [
    "# 4. Do different regions have different charges, on average?"
   ]
  },
  {
   "cell_type": "markdown",
   "id": "5d21684d",
   "metadata": {
    "hidden": true
   },
   "source": [
    "## 4.1 Hypotheses\n",
    "\n",
    "Null:\n",
    "\n",
    "Alternative:"
   ]
  },
  {
   "cell_type": "markdown",
   "id": "a9ae7fac",
   "metadata": {
    "hidden": true
   },
   "source": [
    "## 4.2 Select Test\n",
    "\n",
    "Test:\n",
    "\n",
    "Reason:"
   ]
  },
  {
   "cell_type": "markdown",
   "id": "54acdabe",
   "metadata": {
    "hidden": true
   },
   "source": [
    "## 4.3 Test Assumptions"
   ]
  },
  {
   "cell_type": "markdown",
   "id": "0cfb2571",
   "metadata": {
    "hidden": true
   },
   "source": [
    "## 4.4 Execute Test"
   ]
  },
  {
   "cell_type": "markdown",
   "id": "11db2bb5",
   "metadata": {
    "hidden": true
   },
   "source": [
    "## 4.5 p-value Interpretation"
   ]
  },
  {
   "cell_type": "markdown",
   "id": "793e9c10",
   "metadata": {
    "hidden": true
   },
   "source": [
    "## 4.6 Supporting Visualization"
   ]
  },
  {
   "cell_type": "code",
   "execution_count": null,
   "id": "46b7aad1",
   "metadata": {
    "hidden": true
   },
   "outputs": [],
   "source": []
  }
 ],
 "metadata": {
  "kernelspec": {
   "display_name": "Python (dojo-env)",
   "language": "python",
   "name": "dojo-env"
  },
  "language_info": {
   "codemirror_mode": {
    "name": "ipython",
    "version": 3
   },
   "file_extension": ".py",
   "mimetype": "text/x-python",
   "name": "python",
   "nbconvert_exporter": "python",
   "pygments_lexer": "ipython3",
   "version": "3.9.15"
  },
  "toc": {
   "base_numbering": 1,
   "nav_menu": {},
   "number_sections": false,
   "sideBar": true,
   "skip_h1_title": false,
   "title_cell": "Table of Contents",
   "title_sidebar": "Contents",
   "toc_cell": false,
   "toc_position": {},
   "toc_section_display": true,
   "toc_window_display": false
  }
 },
 "nbformat": 4,
 "nbformat_minor": 5
}
