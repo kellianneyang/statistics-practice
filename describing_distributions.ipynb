{
 "cells": [
  {
   "cell_type": "markdown",
   "id": "7da18cfa",
   "metadata": {},
   "source": [
    "# Describing Distributions"
   ]
  },
  {
   "cell_type": "markdown",
   "id": "27ef0dba",
   "metadata": {},
   "source": [
    "Analyze and visualize several features in the Medical Dataset: https://docs.google.com/spreadsheets/d/1APV3pXiAszS_0mSgkiEt9IUNH-QmyX7KwxSAwuADl6Y/gviz/tq?tqx=out:csv&sheet=medical_data\n",
    "\n",
    "Features to analyze:\n",
    "- VitD_levels\n",
    "- Doc_visits\n",
    "- TotalCharge\n",
    "\n",
    "For each feature listed:\n",
    "\n",
    "1. Plot a histogram with a kde (kernel density estimate)\n",
    "    - Add a line for the mean (red)\n",
    "    - Add a line for the median (green)\n",
    "    - Add a line for for +1 std from the mean (black)\n",
    "    - Add a line for the - 1 std from the mean (black)\n",
    "    - Highlight the range between +1 and =1 std (yellow)\n",
    "\n",
    "2. Answer the following questions:\n",
    "    - Is it Discrete or Continuous?\n",
    "    - Does it have a skew? If so, which direction (+/-)\n",
    "    - What type of kurtosis does it display? (Mesokurtic, Leptokurtic, Platykurtic)\n"
   ]
  },
  {
   "cell_type": "markdown",
   "id": "891051d2",
   "metadata": {},
   "source": [
    "# 1. Imports"
   ]
  },
  {
   "cell_type": "code",
   "execution_count": 1,
   "id": "24262490",
   "metadata": {},
   "outputs": [],
   "source": [
    "import pandas as pd\n",
    "import numpy as np\n",
    "import matplotlib.pyplot as plt\n",
    "import seaborn as sns\n",
    "from scipy import stats"
   ]
  },
  {
   "cell_type": "markdown",
   "id": "25077695",
   "metadata": {},
   "source": [
    "# 2. Read in data"
   ]
  },
  {
   "cell_type": "code",
   "execution_count": 2,
   "id": "830e5a1b",
   "metadata": {},
   "outputs": [
    {
     "data": {
      "text/html": [
       "<div>\n",
       "<style scoped>\n",
       "    .dataframe tbody tr th:only-of-type {\n",
       "        vertical-align: middle;\n",
       "    }\n",
       "\n",
       "    .dataframe tbody tr th {\n",
       "        vertical-align: top;\n",
       "    }\n",
       "\n",
       "    .dataframe thead th {\n",
       "        text-align: right;\n",
       "    }\n",
       "</style>\n",
       "<table border=\"1\" class=\"dataframe\">\n",
       "  <thead>\n",
       "    <tr style=\"text-align: right;\">\n",
       "      <th></th>\n",
       "      <th>State</th>\n",
       "      <th>Lat</th>\n",
       "      <th>Lng</th>\n",
       "      <th>Area</th>\n",
       "      <th>Children</th>\n",
       "      <th>Age</th>\n",
       "      <th>Income</th>\n",
       "      <th>Marital</th>\n",
       "      <th>Gender</th>\n",
       "      <th>ReAdmis</th>\n",
       "      <th>...</th>\n",
       "      <th>Hyperlipidemia</th>\n",
       "      <th>BackPain</th>\n",
       "      <th>Anxiety</th>\n",
       "      <th>Allergic_rhinitis</th>\n",
       "      <th>Reflux_esophagitis</th>\n",
       "      <th>Asthma</th>\n",
       "      <th>Services</th>\n",
       "      <th>Initial_days</th>\n",
       "      <th>TotalCharge</th>\n",
       "      <th>Additional_charges</th>\n",
       "    </tr>\n",
       "  </thead>\n",
       "  <tbody>\n",
       "    <tr>\n",
       "      <th>0</th>\n",
       "      <td>AL</td>\n",
       "      <td>34.34960</td>\n",
       "      <td>-86.72508</td>\n",
       "      <td>Suburban</td>\n",
       "      <td>1.0</td>\n",
       "      <td>53</td>\n",
       "      <td>86575.93</td>\n",
       "      <td>Divorced</td>\n",
       "      <td>Male</td>\n",
       "      <td>0</td>\n",
       "      <td>...</td>\n",
       "      <td>0.0</td>\n",
       "      <td>1.0</td>\n",
       "      <td>1.0</td>\n",
       "      <td>1.0</td>\n",
       "      <td>0</td>\n",
       "      <td>1</td>\n",
       "      <td>Blood Work</td>\n",
       "      <td>10.585770</td>\n",
       "      <td>3726.702860</td>\n",
       "      <td>17939.403420</td>\n",
       "    </tr>\n",
       "    <tr>\n",
       "      <th>1</th>\n",
       "      <td>FL</td>\n",
       "      <td>30.84513</td>\n",
       "      <td>-85.22907</td>\n",
       "      <td>Urban</td>\n",
       "      <td>3.0</td>\n",
       "      <td>51</td>\n",
       "      <td>46805.99</td>\n",
       "      <td>Married</td>\n",
       "      <td>Female</td>\n",
       "      <td>0</td>\n",
       "      <td>...</td>\n",
       "      <td>0.0</td>\n",
       "      <td>0.0</td>\n",
       "      <td>0.0</td>\n",
       "      <td>0.0</td>\n",
       "      <td>1</td>\n",
       "      <td>0</td>\n",
       "      <td>Intravenous</td>\n",
       "      <td>15.129562</td>\n",
       "      <td>4193.190458</td>\n",
       "      <td>17612.998120</td>\n",
       "    </tr>\n",
       "    <tr>\n",
       "      <th>2</th>\n",
       "      <td>SD</td>\n",
       "      <td>43.54321</td>\n",
       "      <td>-96.63772</td>\n",
       "      <td>Suburban</td>\n",
       "      <td>3.0</td>\n",
       "      <td>53</td>\n",
       "      <td>14370.14</td>\n",
       "      <td>Widowed</td>\n",
       "      <td>Female</td>\n",
       "      <td>0</td>\n",
       "      <td>...</td>\n",
       "      <td>0.0</td>\n",
       "      <td>0.0</td>\n",
       "      <td>0.0</td>\n",
       "      <td>0.0</td>\n",
       "      <td>0</td>\n",
       "      <td>0</td>\n",
       "      <td>Blood Work</td>\n",
       "      <td>4.772177</td>\n",
       "      <td>2434.234222</td>\n",
       "      <td>17505.192460</td>\n",
       "    </tr>\n",
       "    <tr>\n",
       "      <th>3</th>\n",
       "      <td>MN</td>\n",
       "      <td>43.89744</td>\n",
       "      <td>-93.51479</td>\n",
       "      <td>Suburban</td>\n",
       "      <td>0.0</td>\n",
       "      <td>78</td>\n",
       "      <td>39741.49</td>\n",
       "      <td>Married</td>\n",
       "      <td>Male</td>\n",
       "      <td>0</td>\n",
       "      <td>...</td>\n",
       "      <td>0.0</td>\n",
       "      <td>0.0</td>\n",
       "      <td>0.0</td>\n",
       "      <td>0.0</td>\n",
       "      <td>1</td>\n",
       "      <td>1</td>\n",
       "      <td>Blood Work</td>\n",
       "      <td>1.714879</td>\n",
       "      <td>2127.830423</td>\n",
       "      <td>12993.437350</td>\n",
       "    </tr>\n",
       "    <tr>\n",
       "      <th>4</th>\n",
       "      <td>VA</td>\n",
       "      <td>37.59894</td>\n",
       "      <td>-76.88958</td>\n",
       "      <td>Rural</td>\n",
       "      <td>1.0</td>\n",
       "      <td>22</td>\n",
       "      <td>1209.56</td>\n",
       "      <td>Widowed</td>\n",
       "      <td>Female</td>\n",
       "      <td>0</td>\n",
       "      <td>...</td>\n",
       "      <td>1.0</td>\n",
       "      <td>0.0</td>\n",
       "      <td>0.0</td>\n",
       "      <td>1.0</td>\n",
       "      <td>0</td>\n",
       "      <td>0</td>\n",
       "      <td>CT Scan</td>\n",
       "      <td>1.254807</td>\n",
       "      <td>2113.073274</td>\n",
       "      <td>3716.525786</td>\n",
       "    </tr>\n",
       "  </tbody>\n",
       "</table>\n",
       "<p>5 rows × 32 columns</p>\n",
       "</div>"
      ],
      "text/plain": [
       "  State       Lat       Lng      Area  Children  Age    Income   Marital  \\\n",
       "0    AL  34.34960 -86.72508  Suburban       1.0   53  86575.93  Divorced   \n",
       "1    FL  30.84513 -85.22907     Urban       3.0   51  46805.99   Married   \n",
       "2    SD  43.54321 -96.63772  Suburban       3.0   53  14370.14   Widowed   \n",
       "3    MN  43.89744 -93.51479  Suburban       0.0   78  39741.49   Married   \n",
       "4    VA  37.59894 -76.88958     Rural       1.0   22   1209.56   Widowed   \n",
       "\n",
       "   Gender  ReAdmis  ...  Hyperlipidemia  BackPain  Anxiety  Allergic_rhinitis  \\\n",
       "0    Male        0  ...             0.0       1.0      1.0                1.0   \n",
       "1  Female        0  ...             0.0       0.0      0.0                0.0   \n",
       "2  Female        0  ...             0.0       0.0      0.0                0.0   \n",
       "3    Male        0  ...             0.0       0.0      0.0                0.0   \n",
       "4  Female        0  ...             1.0       0.0      0.0                1.0   \n",
       "\n",
       "   Reflux_esophagitis Asthma     Services  Initial_days  TotalCharge  \\\n",
       "0                   0      1   Blood Work     10.585770  3726.702860   \n",
       "1                   1      0  Intravenous     15.129562  4193.190458   \n",
       "2                   0      0   Blood Work      4.772177  2434.234222   \n",
       "3                   1      1   Blood Work      1.714879  2127.830423   \n",
       "4                   0      0      CT Scan      1.254807  2113.073274   \n",
       "\n",
       "   Additional_charges  \n",
       "0        17939.403420  \n",
       "1        17612.998120  \n",
       "2        17505.192460  \n",
       "3        12993.437350  \n",
       "4         3716.525786  \n",
       "\n",
       "[5 rows x 32 columns]"
      ]
     },
     "execution_count": 2,
     "metadata": {},
     "output_type": "execute_result"
    }
   ],
   "source": [
    "url = 'https://docs.google.com/spreadsheets/d/1APV3pXiAszS_0mSgkiEt9IUNH-QmyX7KwxSAwuADl6Y/gviz/tq?tqx=out:csv&sheet=medical_data'\n",
    "df = pd.read_csv(url)\n",
    "df.head()"
   ]
  },
  {
   "cell_type": "markdown",
   "id": "67976194",
   "metadata": {},
   "source": [
    "# 3. Helper Functions"
   ]
  },
  {
   "cell_type": "code",
   "execution_count": 3,
   "id": "b75e9db9",
   "metadata": {},
   "outputs": [],
   "source": [
    "# define helper function to calculate statistics\n",
    "def calculate_statistics(col):\n",
    "    # calculate mean\n",
    "    mean = df[col].mean()\n",
    "    \n",
    "    # calculate median\n",
    "    median = df[col].median()\n",
    "    \n",
    "    # calculate std\n",
    "    std = df[col].std()\n",
    "    plus_one_std = mean + std\n",
    "    minus_one_std = mean - std\n",
    "    \n",
    "    return mean, median, plus_one_std, minus_one_std"
   ]
  },
  {
   "cell_type": "code",
   "execution_count": 4,
   "id": "395c609c",
   "metadata": {},
   "outputs": [],
   "source": [
    "# define helper function to draw histograms\n",
    "def draw_histogram(col):\n",
    "    \n",
    "    # calculate statistics\n",
    "    mean, median, plus_one_std, minus_one_std = calculate_statistics(col)\n",
    "    \n",
    "    fig, ax = plt.subplots(figsize=(10,6))\n",
    "    sns.histplot(df[col], ax = ax, stat='probability')\n",
    "\n",
    "    # mean\n",
    "    ax.axvline(mean, color = 'red', \n",
    "               label = f'Mean = {mean:,.2f}')\n",
    "\n",
    "    # median\n",
    "    ax.axvline(median, color = 'green', \n",
    "               label = f'Median = {median:,.2f}')\n",
    "\n",
    "    # std\n",
    "    ax.axvline(plus_one_std, color = 'black',\n",
    "               label=f'+1 std = {plus_one_std:,.2f}')\n",
    "    ax.axvline(minus_one_std, color = 'black', \n",
    "               label = f'-1 std = {minus_one_std:,.2f}')\n",
    "    ax.axvspan(plus_one_std, minus_one_std, \n",
    "               color = 'yellow', zorder = 0)\n",
    "\n",
    "    # title\n",
    "    ax.set_title(col)\n",
    "\n",
    "    # legend\n",
    "    ax.legend();"
   ]
  },
  {
   "cell_type": "code",
   "execution_count": 5,
   "id": "ecc4c489",
   "metadata": {},
   "outputs": [],
   "source": [
    "# helper function to calculate kurtosis\n",
    "def calculate_kurtosis(col):\n",
    "    \n",
    "    kurt = round(stats.kurtosis(df[col], fisher = False), 1)\n",
    "    \n",
    "    if kurt == 3.0:\n",
    "        print(f\"Kurtosis: {kurt}; Mesokurtic\")\n",
    "    elif kurt > 3.0:\n",
    "        print(f\"Kurtosis: {kurt}; Leptokurtic\")\n",
    "    else:\n",
    "        print(f\"Kurtosis: {kurt}; Platykurtic\")        "
   ]
  },
  {
   "cell_type": "markdown",
   "id": "93e1f5f4",
   "metadata": {},
   "source": [
    "# 4. VitD_levels"
   ]
  },
  {
   "cell_type": "code",
   "execution_count": 6,
   "id": "b4dde378",
   "metadata": {},
   "outputs": [
    {
     "data": {
      "image/png": "[encoded data removed]",
      "text/plain": [
       "<Figure size 1000x600 with 1 Axes>"
      ]
     },
     "metadata": {},
     "output_type": "display_data"
    }
   ],
   "source": [
    "col = 'VitD_levels'\n",
    "draw_histogram(col)"
   ]
  },
  {
   "cell_type": "code",
   "execution_count": 7,
   "id": "baac5844",
   "metadata": {},
   "outputs": [
    {
     "name": "stdout",
     "output_type": "stream",
     "text": [
      "Kurtosis: 3.0; Mesokurtic\n"
     ]
    }
   ],
   "source": [
    "calculate_kurtosis(col)"
   ]
  },
  {
   "cell_type": "markdown",
   "id": "9ce8bbc5",
   "metadata": {},
   "source": [
    "1. Is it Discrete or Continuous?\n",
    "    - Continuous\n",
    "\n",
    "\n",
    "2. Does it have a skew? If so, which direction (+/-)\n",
    "    - No skew\n",
    "    \n",
    "\n",
    "3. What type of kurtosis does it display? (Mesokurtic, Leptokurtic, Platykurtic)\n",
    "    - Mesokurtic"
   ]
  },
  {
   "cell_type": "markdown",
   "id": "770b0f95",
   "metadata": {},
   "source": [
    "# 5. Doc_visits"
   ]
  },
  {
   "cell_type": "code",
   "execution_count": 8,
   "id": "28db7377",
   "metadata": {},
   "outputs": [
    {
     "data": {
      "image/png": "[encoded data removed]",
      "text/plain": [
       "<Figure size 1000x600 with 1 Axes>"
      ]
     },
     "metadata": {},
     "output_type": "display_data"
    }
   ],
   "source": [
    "col = 'Doc_visits'\n",
    "draw_histogram(col)"
   ]
  },
  {
   "cell_type": "code",
   "execution_count": 9,
   "id": "240cbab5",
   "metadata": {},
   "outputs": [
    {
     "name": "stdout",
     "output_type": "stream",
     "text": [
      "Kurtosis: 3.0; Mesokurtic\n"
     ]
    }
   ],
   "source": [
    "calculate_kurtosis(col)"
   ]
  },
  {
   "cell_type": "markdown",
   "id": "4d802769",
   "metadata": {},
   "source": [
    "1. Is it Discrete or Continuous?\n",
    "    - Discrete\n",
    "\n",
    "\n",
    "2. Does it have a skew? If so, which direction (+/-)\n",
    "    - No skew\n",
    "    \n",
    "\n",
    "3. What type of kurtosis does it display? (Mesokurtic, Leptokurtic, Platykurtic)\n",
    "    - Mesokurtic"
   ]
  },
  {
   "cell_type": "markdown",
   "id": "65817885",
   "metadata": {},
   "source": [
    "# 6. TotalCharge"
   ]
  },
  {
   "cell_type": "code",
   "execution_count": 10,
   "id": "97e3b242",
   "metadata": {},
   "outputs": [
    {
     "data": {
      "image/png": "[encoded data removed]",
      "text/plain": [
       "<Figure size 1000x600 with 1 Axes>"
      ]
     },
     "metadata": {},
     "output_type": "display_data"
    }
   ],
   "source": [
    "col = 'TotalCharge'\n",
    "draw_histogram(col)"
   ]
  },
  {
   "cell_type": "code",
   "execution_count": 11,
   "id": "f99d9ef9",
   "metadata": {},
   "outputs": [
    {
     "name": "stdout",
     "output_type": "stream",
     "text": [
      "Kurtosis: 3.3; Leptokurtic\n"
     ]
    }
   ],
   "source": [
    "calculate_kurtosis(col)"
   ]
  },
  {
   "cell_type": "markdown",
   "id": "a22fe01f",
   "metadata": {},
   "source": [
    "1. Is it Discrete or Continuous?\n",
    "    - Continuous\n",
    "\n",
    "\n",
    "2. Does it have a skew? If so, which direction (+/-)\n",
    "    - Positive\n",
    "    \n",
    "\n",
    "3. What type of kurtosis does it display? (Mesokurtic, Leptokurtic, Platykurtic)\n",
    "    - Leptokurtic"
   ]
  }
 ],
 "metadata": {
  "kernelspec": {
   "display_name": "Python (dojo-env)",
   "language": "python",
   "name": "dojo-env"
  },
  "language_info": {
   "codemirror_mode": {
    "name": "ipython",
    "version": 3
   },
   "file_extension": ".py",
   "mimetype": "text/x-python",
   "name": "python",
   "nbconvert_exporter": "python",
   "pygments_lexer": "ipython3",
   "version": "3.9.15"
  },
  "toc": {
   "base_numbering": 1,
   "nav_menu": {},
   "number_sections": false,
   "sideBar": true,
   "skip_h1_title": false,
   "title_cell": "Table of Contents",
   "title_sidebar": "Contents",
   "toc_cell": false,
   "toc_position": {},
   "toc_section_display": true,
   "toc_window_display": false
  }
 },
 "nbformat": 4,
 "nbformat_minor": 5
}
