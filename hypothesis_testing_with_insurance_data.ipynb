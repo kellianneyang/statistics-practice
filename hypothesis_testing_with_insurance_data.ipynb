{
 "cells": [
  {
   "cell_type": "markdown",
   "id": "3deda9f5",
   "metadata": {},
   "source": [
    "# Hypothesis Testing with Insurance Data"
   ]
  },
  {
   "cell_type": "markdown",
   "id": "4ca09ae9",
   "metadata": {},
   "source": [
    "Work with the US Health Insurance Dataset (1) from Kaggle (2).\n",
    "\n",
    "(1)\n",
    "https://docs.google.com/spreadsheets/d/e/2PACX-1vQBN8DPW2rdiRrY34eEM53HAzakNGSRrw4ogI-j8HyCUrbqTB_z4CeIn2IvjLF-w_6sOe5pIlypJGAA/pub?output=csv\n",
    "\n",
    "(2)\n",
    "https://www.kaggle.com/teertha/ushealthinsurancedataset\n",
    "\n",
    "Answer the following questions:\n",
    "\n",
    "- Q1. Do smokers have higher insurance charges than non-smokers?\n",
    "- Q2. Are men more likely to smoke than women?\n",
    "- Q3. Do different regions have different charges, on average?\n",
    "\n",
    "For each question, make sure to:\n",
    "\n",
    "1. State your Null Hypothesis and Alternative Hypothesis\n",
    "2. Select the correct test according to the data type and number of samples\n",
    "3. Test the assumptions of your selected test.\n",
    "4. Execute the selected test, or the alternative test (if you do not meet the assumptions)\n",
    "5. Interpret your p-value and reject or fail to reject your null hypothesis \n",
    "6. Show a supporting visualization that helps display the result"
   ]
  },
  {
   "cell_type": "markdown",
   "id": "d14b1788",
   "metadata": {
    "heading_collapsed": true
   },
   "source": [
    "# 1. Preliminary Steps"
   ]
  },
  {
   "cell_type": "code",
   "execution_count": 32,
   "id": "73e7cc6b",
   "metadata": {
    "hidden": true
   },
   "outputs": [],
   "source": [
    "# imports\n",
    "import pandas as pd\n",
    "import numpy as np\n",
    "import matplotlib.pyplot as plt\n",
    "import seaborn as sns\n",
    "import scipy.stats as stats\n",
    "from statsmodels.stats.multicomp import pairwise_tukeyhsd"
   ]
  },
  {
   "cell_type": "code",
   "execution_count": 33,
   "id": "01a3a246",
   "metadata": {
    "hidden": true
   },
   "outputs": [
    {
     "data": {
      "text/html": [
       "<div>\n",
       "<style scoped>\n",
       "    .dataframe tbody tr th:only-of-type {\n",
       "        vertical-align: middle;\n",
       "    }\n",
       "\n",
       "    .dataframe tbody tr th {\n",
       "        vertical-align: top;\n",
       "    }\n",
       "\n",
       "    .dataframe thead th {\n",
       "        text-align: right;\n",
       "    }\n",
       "</style>\n",
       "<table border=\"1\" class=\"dataframe\">\n",
       "  <thead>\n",
       "    <tr style=\"text-align: right;\">\n",
       "      <th></th>\n",
       "      <th>age</th>\n",
       "      <th>sex</th>\n",
       "      <th>bmi</th>\n",
       "      <th>children</th>\n",
       "      <th>smoker</th>\n",
       "      <th>region</th>\n",
       "      <th>charges</th>\n",
       "    </tr>\n",
       "  </thead>\n",
       "  <tbody>\n",
       "    <tr>\n",
       "      <th>0</th>\n",
       "      <td>19</td>\n",
       "      <td>female</td>\n",
       "      <td>27.900</td>\n",
       "      <td>0</td>\n",
       "      <td>yes</td>\n",
       "      <td>southwest</td>\n",
       "      <td>16884.92400</td>\n",
       "    </tr>\n",
       "    <tr>\n",
       "      <th>1</th>\n",
       "      <td>18</td>\n",
       "      <td>male</td>\n",
       "      <td>33.770</td>\n",
       "      <td>1</td>\n",
       "      <td>no</td>\n",
       "      <td>southeast</td>\n",
       "      <td>1725.55230</td>\n",
       "    </tr>\n",
       "    <tr>\n",
       "      <th>2</th>\n",
       "      <td>28</td>\n",
       "      <td>male</td>\n",
       "      <td>33.000</td>\n",
       "      <td>3</td>\n",
       "      <td>no</td>\n",
       "      <td>southeast</td>\n",
       "      <td>4449.46200</td>\n",
       "    </tr>\n",
       "    <tr>\n",
       "      <th>3</th>\n",
       "      <td>33</td>\n",
       "      <td>male</td>\n",
       "      <td>22.705</td>\n",
       "      <td>0</td>\n",
       "      <td>no</td>\n",
       "      <td>northwest</td>\n",
       "      <td>21984.47061</td>\n",
       "    </tr>\n",
       "    <tr>\n",
       "      <th>4</th>\n",
       "      <td>32</td>\n",
       "      <td>male</td>\n",
       "      <td>28.880</td>\n",
       "      <td>0</td>\n",
       "      <td>no</td>\n",
       "      <td>northwest</td>\n",
       "      <td>3866.85520</td>\n",
       "    </tr>\n",
       "  </tbody>\n",
       "</table>\n",
       "</div>"
      ],
      "text/plain": [
       "   age     sex     bmi  children smoker     region      charges\n",
       "0   19  female  27.900         0    yes  southwest  16884.92400\n",
       "1   18    male  33.770         1     no  southeast   1725.55230\n",
       "2   28    male  33.000         3     no  southeast   4449.46200\n",
       "3   33    male  22.705         0     no  northwest  21984.47061\n",
       "4   32    male  28.880         0     no  northwest   3866.85520"
      ]
     },
     "execution_count": 33,
     "metadata": {},
     "output_type": "execute_result"
    }
   ],
   "source": [
    "# load data\n",
    "url = 'https://docs.google.com/spreadsheets/d/e/2PACX-1vQBN8DPW2rdiRrY34eEM53HAzakNGSRrw4ogI-j8HyCUrbqTB_z4CeIn2IvjLF-w_6sOe5pIlypJGAA/pub?output=csv'\n",
    "df = pd.read_csv(url)\n",
    "df.head()"
   ]
  },
  {
   "cell_type": "markdown",
   "id": "86b11468",
   "metadata": {},
   "source": [
    "# 2. Do smokers have higher insurance charges than non-smokers?"
   ]
  },
  {
   "cell_type": "code",
   "execution_count": 34,
   "id": "fea1c510",
   "metadata": {},
   "outputs": [
    {
     "data": {
      "text/plain": [
       "no     1064\n",
       "yes     274\n",
       "Name: smoker, dtype: int64"
      ]
     },
     "execution_count": 34,
     "metadata": {},
     "output_type": "execute_result"
    }
   ],
   "source": [
    "# how many smokers and non-smokers?\n",
    "df['smoker'].value_counts()"
   ]
  },
  {
   "cell_type": "code",
   "execution_count": 35,
   "id": "2085767b",
   "metadata": {},
   "outputs": [],
   "source": [
    "# split into groups\n",
    "smokers_df = df.loc[df['smoker'] == 'yes'].copy()\n",
    "nonsmokers_df = df.loc[df['smoker'] == 'no'].copy()"
   ]
  },
  {
   "cell_type": "code",
   "execution_count": 36,
   "id": "69fdf8af",
   "metadata": {},
   "outputs": [],
   "source": [
    "# define variable 'charges' for each group\n",
    "smokers_charges = smokers_df['charges']\n",
    "nonsmokers_charges = nonsmokers_df['charges']"
   ]
  },
  {
   "cell_type": "markdown",
   "id": "4251d1eb",
   "metadata": {},
   "source": [
    "## 2.1 Hypotheses\n",
    "\n",
    "Null: Smokers and non-smokers have the same insurance charges.\n",
    "\n",
    "Alternative: Smokers and non-smokers have significantly different insurance charges.\n",
    "\n",
    "Alpha: 0.05"
   ]
  },
  {
   "cell_type": "markdown",
   "id": "9a1ca6a8",
   "metadata": {},
   "source": [
    "## 2.2 Select Test\n",
    "\n",
    "Data: Numeric\n",
    "\n",
    "Samples/groups: 2 (smokers and nonsmokers)\n",
    "\n",
    "Test: 2 Sample T-Test (Independent T-Test)"
   ]
  },
  {
   "cell_type": "markdown",
   "id": "31c4bb6e",
   "metadata": {},
   "source": [
    "## 2.3 Test Assumptions\n",
    "\n",
    "1. No significant outliers\n",
    "2. Normality\n",
    "3. Equal variance"
   ]
  },
  {
   "cell_type": "code",
   "execution_count": 37,
   "id": "841624f2",
   "metadata": {},
   "outputs": [
    {
     "name": "stdout",
     "output_type": "stream",
     "text": [
      "Outliers for smokers: 0\n",
      "Outliers for nonsmokers: 24\n"
     ]
    }
   ],
   "source": [
    "# check for and remove outliers\n",
    "\n",
    "# smokers\n",
    "smokers_zscores = stats.zscore(smokers_charges)\n",
    "smokers_outliers = abs(smokers_zscores) > 3\n",
    "print(f\"Outliers for smokers: {np.sum(smokers_outliers)}\")\n",
    "\n",
    "# nonsmokers\n",
    "nonsmokers_zscores = stats.zscore(nonsmokers_charges)\n",
    "nonsmokers_outliers = abs(nonsmokers_zscores) > 3\n",
    "print(f\"Outliers for nonsmokers: {np.sum(nonsmokers_outliers)}\")"
   ]
  },
  {
   "cell_type": "code",
   "execution_count": 38,
   "id": "8f06d5bf",
   "metadata": {},
   "outputs": [
    {
     "data": {
      "text/plain": [
       "964     26467.09737\n",
       "379     27000.98473\n",
       "1142    27117.99378\n",
       "138     27322.73386\n",
       "539     27346.04207\n",
       "140     27375.90478\n",
       "516     27724.28875\n",
       "770     27941.28758\n",
       "443     28287.89766\n",
       "987     28340.18885\n",
       "959     28468.91901\n",
       "806     28476.73499\n",
       "9       28923.13692\n",
       "696     29186.48236\n",
       "1258    30063.58055\n",
       "62      30166.61817\n",
       "115     30259.99556\n",
       "387     30284.64294\n",
       "573     31620.00106\n",
       "936     32108.66282\n",
       "599     33471.97189\n",
       "242     35160.13457\n",
       "1012    36580.28216\n",
       "1206    36910.60803\n",
       "Name: charges, dtype: float64"
      ]
     },
     "execution_count": 38,
     "metadata": {},
     "output_type": "execute_result"
    }
   ],
   "source": [
    "# print outliers for nonsmokers\n",
    "outliers = nonsmokers_charges[(np.abs(stats.zscore(nonsmokers_charges)) > 3)]\n",
    "outliers.sort_values()"
   ]
  },
  {
   "cell_type": "markdown",
   "id": "7659fc98",
   "metadata": {},
   "source": [
    "The lowest amount of charges that is an outlier is $26,467."
   ]
  },
  {
   "cell_type": "code",
   "execution_count": 39,
   "id": "a1c34efa",
   "metadata": {},
   "outputs": [],
   "source": [
    "# remove outliers for nonsmokers\n",
    "nonsmokers_charges = nonsmokers_charges[(np.abs(stats.zscore(nonsmokers_charges)) <= 3)]"
   ]
  },
  {
   "cell_type": "markdown",
   "id": "e08e64e0",
   "metadata": {},
   "source": [
    "To check if the outliers were removed, we can see if there are any charges at $26,467 or above."
   ]
  },
  {
   "cell_type": "code",
   "execution_count": 40,
   "id": "3c3a5471",
   "metadata": {},
   "outputs": [
    {
     "data": {
      "text/plain": [
       "26392.26029"
      ]
     },
     "execution_count": 40,
     "metadata": {},
     "output_type": "execute_result"
    }
   ],
   "source": [
    "# check if outliers were removed\n",
    "nonsmokers_charges.max()"
   ]
  },
  {
   "cell_type": "markdown",
   "id": "a8250dc1",
   "metadata": {},
   "source": [
    "All the outliers were removed."
   ]
  },
  {
   "cell_type": "code",
   "execution_count": 41,
   "id": "509e97c2",
   "metadata": {},
   "outputs": [
    {
     "name": "stdout",
     "output_type": "stream",
     "text": [
      "NormaltestResult(statistic=61.03941356533816, pvalue=5.564930630036463e-14)\n",
      "NormaltestResult(statistic=163.80367047789198, pvalue=2.6945416315543976e-36)\n"
     ]
    }
   ],
   "source": [
    "# check for normality\n",
    "\n",
    "# smokers\n",
    "result_smokers_charges = stats.normaltest(smokers_charges)\n",
    "print(result_smokers_charges)\n",
    "\n",
    "# nonsmokers\n",
    "result_nonsmokers_charges = stats.normaltest(nonsmokers_charges)\n",
    "print(result_nonsmokers_charges)"
   ]
  },
  {
   "cell_type": "markdown",
   "id": "f8efd9d0",
   "metadata": {},
   "source": [
    "The p-values for the normality tests for both the smokers and nonsmokers' charges are below our chosen alpha value of 0.05, so we will reject the null hypothesis that these groups are normally distributed. \n",
    "\n",
    "This means that we will consider our data to NOT be normally distributed.\n",
    "\n",
    "The need for normally-distributed data can be skipped if there are more than 15 samples in both groups. We have many more samples than that in our data (see below), so we will move on."
   ]
  },
  {
   "cell_type": "code",
   "execution_count": 42,
   "id": "e601fa1f",
   "metadata": {},
   "outputs": [
    {
     "data": {
      "text/plain": [
       "no     1064\n",
       "yes     274\n",
       "Name: smoker, dtype: int64"
      ]
     },
     "execution_count": 42,
     "metadata": {},
     "output_type": "execute_result"
    }
   ],
   "source": [
    "# how many smokers and non-smokers?\n",
    "df['smoker'].value_counts()"
   ]
  },
  {
   "cell_type": "code",
   "execution_count": 43,
   "id": "302a9b47",
   "metadata": {},
   "outputs": [
    {
     "data": {
      "text/plain": [
       "LeveneResult(statistic=520.7468821724297, pvalue=2.4247238784347824e-97)"
      ]
     },
     "execution_count": 43,
     "metadata": {},
     "output_type": "execute_result"
    }
   ],
   "source": [
    "# check for equal variance\n",
    "result = stats.levene(smokers_charges, nonsmokers_charges)\n",
    "result"
   ]
  },
  {
   "cell_type": "markdown",
   "id": "800ffc27",
   "metadata": {},
   "source": [
    "The p-value for our equal variance test is below our chosen alpha value of 0.05, so we will reject the null hypothesis that these groups have equal variances.\n",
    "\n",
    "This means that we will consider these two groups to have UNEQUAL (different) variances.\n",
    "\n",
    "To combat this, we will include the argument \"equal_var = False\" in our test."
   ]
  },
  {
   "cell_type": "markdown",
   "id": "90a5b180",
   "metadata": {},
   "source": [
    "## 2.4 Execute Test"
   ]
  },
  {
   "cell_type": "code",
   "execution_count": 44,
   "id": "49148df0",
   "metadata": {},
   "outputs": [
    {
     "data": {
      "text/plain": [
       "Ttest_indResult(statistic=33.732305987092516, pvalue=2.575322662587431e-104)"
      ]
     },
     "execution_count": 44,
     "metadata": {},
     "output_type": "execute_result"
    }
   ],
   "source": [
    "# independent (2-sample) t-test with equal_var = False\n",
    "result = stats.ttest_ind(smokers_charges, nonsmokers_charges,\n",
    "                        equal_var = False)\n",
    "result"
   ]
  },
  {
   "cell_type": "markdown",
   "id": "303ae703",
   "metadata": {},
   "source": [
    "## 2.5 p-value Interpretation"
   ]
  },
  {
   "cell_type": "markdown",
   "id": "bb321127",
   "metadata": {},
   "source": [
    "The p-value for our T-Test is below our chosen alpha value of 0.05, so we will reject the null hypothesis that smokers and nonsmokers have equal insurance charges. \n",
    "\n",
    "This means that we will consider smokers and nonsmokers to have UNEQUAL insurance charges."
   ]
  },
  {
   "cell_type": "markdown",
   "id": "3de21943",
   "metadata": {},
   "source": [
    "## 2.6 Supporting Visualization"
   ]
  },
  {
   "cell_type": "code",
   "execution_count": 45,
   "id": "8791e6a7",
   "metadata": {},
   "outputs": [
    {
     "data": {
      "image/png": "[encoded data removed]",
      "text/plain": [
       "<Figure size 1000x500 with 2 Axes>"
      ]
     },
     "metadata": {},
     "output_type": "display_data"
    }
   ],
   "source": [
    "# specify colors\n",
    "groups_palette={'yes': 'dodgerblue', \n",
    "                \"no\": 'salmon'}\n",
    "\n",
    "# visualize means\n",
    "fig, (ax, ax_bar) = plt.subplots(figsize = (10, 5), \n",
    "                                 ncols = 2, \n",
    "                                 constrained_layout = True,\n",
    "                                 gridspec_kw = {'width_ratios': [0.8, 0.2]})\n",
    "\n",
    "# histogram\n",
    "ax = sns.histplot(data = df, \n",
    "                  x = 'charges', \n",
    "                  fill = True, \n",
    "                  hue = 'smoker', \n",
    "                  kde = True, \n",
    "                  stat = 'density', \n",
    "                  common_norm = False,\n",
    "                  ax = ax, \n",
    "                  palette = groups_palette)\n",
    "\n",
    "ax.axvline(np.mean(smokers_charges), \n",
    "           ls = '--',\n",
    "           lw = 3, \n",
    "           label = f\"Smokers (Mean = {np.mean(smokers_charges): .2f})\",\n",
    "           color = groups_palette['yes'])\n",
    "\n",
    "ax.axvline(np.mean(nonsmokers_charges), \n",
    "           ls = '--', \n",
    "           lw = 3, \n",
    "           label = f\"Nonsmokers (Mean = {np.mean(nonsmokers_charges): .2f})\",\n",
    "           color = groups_palette['no'])\n",
    "\n",
    "ax.legend(prop = {\"size\": 14}, \n",
    "          loc = 'upper right') #bbox_to_anchor=[1,1])\n",
    "\n",
    "# barplot\n",
    "sns.barplot(data = df, \n",
    "            x = 'smoker', \n",
    "            y = 'charges',\n",
    "            ax = ax_bar,\n",
    "            palette = groups_palette)\n",
    "\n",
    "fig.suptitle('Comparison of Charges by Smoking Status',\n",
    "             fontsize = 'xx-large');"
   ]
  },
  {
   "cell_type": "markdown",
   "id": "7b2c5ada",
   "metadata": {
    "heading_collapsed": true
   },
   "source": [
    "# 3. Are men more likely to smoke than women?"
   ]
  },
  {
   "cell_type": "markdown",
   "id": "4e6118d9",
   "metadata": {
    "hidden": true
   },
   "source": [
    "## 3.1 Hypotheses\n",
    "\n",
    "Null: Men and women are equally likely to smoke.\n",
    "\n",
    "Alternative: Men and women differ in their likeliness to smoke.\n",
    "\n",
    "Alpha: 0.05"
   ]
  },
  {
   "cell_type": "markdown",
   "id": "8bb4afb7",
   "metadata": {
    "hidden": true
   },
   "source": [
    "## 3.2 Select Test\n",
    "\n",
    "Data: Categorical\n",
    "\n",
    "Samples/groups: 2 (men and women)\n",
    "\n",
    "Test: Chi-Square"
   ]
  },
  {
   "cell_type": "markdown",
   "id": "0920a1cd",
   "metadata": {
    "hidden": true
   },
   "source": [
    "## 3.3 Test Assumptions"
   ]
  },
  {
   "cell_type": "markdown",
   "id": "aa69c904",
   "metadata": {
    "hidden": true
   },
   "source": [
    "1. Two categorical variables (ordinal or nominal)\n",
    "2. Outcomes are independent\n",
    "\n",
    "Our two categorical variables, men and women, are nominal.\n",
    "\n",
    "Our outcomes are independent (men's likeliness to smoke is not influenced by women's likeliness to smoke and vice versa). "
   ]
  },
  {
   "cell_type": "markdown",
   "id": "38eb9329",
   "metadata": {
    "hidden": true
   },
   "source": [
    "## 3.4 Execute Test"
   ]
  },
  {
   "cell_type": "code",
   "execution_count": 46,
   "id": "bc226c6a",
   "metadata": {
    "hidden": true
   },
   "outputs": [
    {
     "data": {
      "text/html": [
       "<div>\n",
       "<style scoped>\n",
       "    .dataframe tbody tr th:only-of-type {\n",
       "        vertical-align: middle;\n",
       "    }\n",
       "\n",
       "    .dataframe tbody tr th {\n",
       "        vertical-align: top;\n",
       "    }\n",
       "\n",
       "    .dataframe thead th {\n",
       "        text-align: right;\n",
       "    }\n",
       "</style>\n",
       "<table border=\"1\" class=\"dataframe\">\n",
       "  <thead>\n",
       "    <tr style=\"text-align: right;\">\n",
       "      <th>smoker</th>\n",
       "      <th>no</th>\n",
       "      <th>yes</th>\n",
       "    </tr>\n",
       "    <tr>\n",
       "      <th>sex</th>\n",
       "      <th></th>\n",
       "      <th></th>\n",
       "    </tr>\n",
       "  </thead>\n",
       "  <tbody>\n",
       "    <tr>\n",
       "      <th>female</th>\n",
       "      <td>547</td>\n",
       "      <td>115</td>\n",
       "    </tr>\n",
       "    <tr>\n",
       "      <th>male</th>\n",
       "      <td>517</td>\n",
       "      <td>159</td>\n",
       "    </tr>\n",
       "  </tbody>\n",
       "</table>\n",
       "</div>"
      ],
      "text/plain": [
       "smoker   no  yes\n",
       "sex             \n",
       "female  547  115\n",
       "male    517  159"
      ]
     },
     "execution_count": 46,
     "metadata": {},
     "output_type": "execute_result"
    }
   ],
   "source": [
    "# get contingency table for chi-squared test input\n",
    "table = pd.crosstab(df['sex'], df['smoker'])\n",
    "table"
   ]
  },
  {
   "cell_type": "code",
   "execution_count": 47,
   "id": "7df12780",
   "metadata": {
    "hidden": true
   },
   "outputs": [
    {
     "name": "stdout",
     "output_type": "stream",
     "text": [
      "0.006548143503580696\n"
     ]
    }
   ],
   "source": [
    "# run chi-squared test\n",
    "result = stats.chi2_contingency(table)\n",
    "chi2, p, deg_free, expected_vals = result\n",
    "\n",
    "# print p-value\n",
    "print(p)"
   ]
  },
  {
   "cell_type": "markdown",
   "id": "5410e004",
   "metadata": {
    "hidden": true
   },
   "source": [
    "## 3.5 p-value Interpretation"
   ]
  },
  {
   "cell_type": "markdown",
   "id": "dfd71b0b",
   "metadata": {
    "hidden": true
   },
   "source": [
    "Our p-value is less than our designated alpha (0.05), so we will reject the null hypothesis that men and women are equally likely to smoke.\n",
    "\n",
    "This means that we will consider men and women UNEQUALLY likely to smoke."
   ]
  },
  {
   "cell_type": "markdown",
   "id": "167ea969",
   "metadata": {
    "hidden": true
   },
   "source": [
    "## 3.6 Supporting Visualization"
   ]
  },
  {
   "cell_type": "code",
   "execution_count": 48,
   "id": "f77f14bc",
   "metadata": {
    "hidden": true
   },
   "outputs": [
    {
     "data": {
      "image/png": "[encoded data removed]",
      "text/plain": [
       "<Figure size 640x480 with 1 Axes>"
      ]
     },
     "metadata": {},
     "output_type": "display_data"
    }
   ],
   "source": [
    "# plot likeliness to smoke by sex\n",
    "ax = sns.countplot(data = df, x = 'sex', hue = 'smoker')\n",
    "ax.set_title(\"Number of Smokers by Sex\");"
   ]
  },
  {
   "cell_type": "markdown",
   "id": "419d81c3",
   "metadata": {},
   "source": [
    "# 4. Do different regions have different charges, on average?"
   ]
  },
  {
   "cell_type": "markdown",
   "id": "e0e0f031",
   "metadata": {},
   "source": [
    "## 4.1 Hypotheses\n",
    "\n",
    "Null: Different regions have the same charges on average.\n",
    "\n",
    "Alternative: Different regions have significantly different charges on average.\n",
    "\n",
    "Alpha: 0.05"
   ]
  },
  {
   "cell_type": "markdown",
   "id": "62e39bac",
   "metadata": {},
   "source": [
    "## 4.2 Select Test\n",
    "\n",
    "Data: Numeric (charges in $)\n",
    "\n",
    "Samples/groups: 4 (regions; see below)\n",
    "\n",
    "Test: One-way ANOVA and/or Tukey"
   ]
  },
  {
   "cell_type": "code",
   "execution_count": 49,
   "id": "2fc7bf96",
   "metadata": {},
   "outputs": [
    {
     "data": {
      "text/plain": [
       "southeast    364\n",
       "southwest    325\n",
       "northwest    325\n",
       "northeast    324\n",
       "Name: region, dtype: int64"
      ]
     },
     "execution_count": 49,
     "metadata": {},
     "output_type": "execute_result"
    }
   ],
   "source": [
    "df['region'].value_counts()"
   ]
  },
  {
   "cell_type": "code",
   "execution_count": 50,
   "id": "d641e4f3",
   "metadata": {},
   "outputs": [
    {
     "data": {
      "text/plain": [
       "{'southwest': 0       16884.92400\n",
       " 12       1826.84300\n",
       " 15       1837.23700\n",
       " 18      10602.38500\n",
       " 19      36837.46700\n",
       "            ...     \n",
       " 1316     1731.67700\n",
       " 1329    10325.20600\n",
       " 1331    10795.93733\n",
       " 1332    11411.68500\n",
       " 1336     2007.94500\n",
       " Name: charges, Length: 325, dtype: float64,\n",
       " 'southeast': 1        1725.5523\n",
       " 2        4449.4620\n",
       " 5        3756.6216\n",
       " 6        8240.5896\n",
       " 11      27808.7251\n",
       "            ...    \n",
       " 1322    12981.3457\n",
       " 1323    43896.3763\n",
       " 1327     9377.9047\n",
       " 1330    12629.1656\n",
       " 1335     1629.8335\n",
       " Name: charges, Length: 364, dtype: float64,\n",
       " 'northwest': 3       21984.47061\n",
       " 4        3866.85520\n",
       " 7        7281.50560\n",
       " 9       28923.13692\n",
       " 24       6203.90175\n",
       "            ...     \n",
       " 1319     7201.70085\n",
       " 1320     5425.02335\n",
       " 1324     4239.89265\n",
       " 1333    10600.54830\n",
       " 1337    29141.36030\n",
       " Name: charges, Length: 325, dtype: float64,\n",
       " 'northeast': 8        6406.41070\n",
       " 10       2721.32080\n",
       " 16      10797.33620\n",
       " 17       2395.17155\n",
       " 20      13228.84695\n",
       "            ...     \n",
       " 1321    28101.33305\n",
       " 1325    13143.33665\n",
       " 1326     7050.02130\n",
       " 1328    22395.74424\n",
       " 1334     2205.98080\n",
       " Name: charges, Length: 324, dtype: float64}"
      ]
     },
     "execution_count": 50,
     "metadata": {},
     "output_type": "execute_result"
    }
   ],
   "source": [
    "# prepare regions into a dictionary\n",
    "groups = {}\n",
    "\n",
    "# loop through regions\n",
    "for region in df['region'].unique():\n",
    "    \n",
    "    # grab charges for that region\n",
    "    data = df.loc[df['region'] == region, 'charges'].copy()\n",
    "    \n",
    "    # add to dictionary\n",
    "    groups[region] = data\n",
    "    \n",
    "# check\n",
    "groups"
   ]
  },
  {
   "cell_type": "markdown",
   "id": "2f4c626b",
   "metadata": {},
   "source": [
    "## 4.3 Test Assumptions"
   ]
  },
  {
   "cell_type": "markdown",
   "id": "92d21784",
   "metadata": {},
   "source": [
    "One-way ANOVA (comparison of more than 2 groups on one variable)\n",
    "1. Normality\n",
    "2. Equal variance\n",
    "3. No significant outliers"
   ]
  },
  {
   "cell_type": "code",
   "execution_count": 51,
   "id": "04bc93fb",
   "metadata": {},
   "outputs": [
    {
     "data": {
      "text/html": [
       "<div>\n",
       "<style scoped>\n",
       "    .dataframe tbody tr th:only-of-type {\n",
       "        vertical-align: middle;\n",
       "    }\n",
       "\n",
       "    .dataframe tbody tr th {\n",
       "        vertical-align: top;\n",
       "    }\n",
       "\n",
       "    .dataframe thead th {\n",
       "        text-align: right;\n",
       "    }\n",
       "</style>\n",
       "<table border=\"1\" class=\"dataframe\">\n",
       "  <thead>\n",
       "    <tr style=\"text-align: right;\">\n",
       "      <th></th>\n",
       "      <th>n</th>\n",
       "      <th>p</th>\n",
       "      <th>test stat</th>\n",
       "      <th>sig</th>\n",
       "    </tr>\n",
       "  </thead>\n",
       "  <tbody>\n",
       "    <tr>\n",
       "      <th>southwest</th>\n",
       "      <td>325.0</td>\n",
       "      <td>6.125298e-23</td>\n",
       "      <td>102.294059</td>\n",
       "      <td>True</td>\n",
       "    </tr>\n",
       "    <tr>\n",
       "      <th>southeast</th>\n",
       "      <td>364.0</td>\n",
       "      <td>4.953297e-15</td>\n",
       "      <td>65.877446</td>\n",
       "      <td>True</td>\n",
       "    </tr>\n",
       "    <tr>\n",
       "      <th>northwest</th>\n",
       "      <td>325.0</td>\n",
       "      <td>5.184209e-24</td>\n",
       "      <td>107.232850</td>\n",
       "      <td>True</td>\n",
       "    </tr>\n",
       "    <tr>\n",
       "      <th>northeast</th>\n",
       "      <td>324.0</td>\n",
       "      <td>1.455431e-19</td>\n",
       "      <td>86.747629</td>\n",
       "      <td>True</td>\n",
       "    </tr>\n",
       "  </tbody>\n",
       "</table>\n",
       "</div>"
      ],
      "text/plain": [
       "               n             p   test stat   sig\n",
       "southwest  325.0  6.125298e-23  102.294059  True\n",
       "southeast  364.0  4.953297e-15   65.877446  True\n",
       "northwest  325.0  5.184209e-24  107.232850  True\n",
       "northeast  324.0  1.455431e-19   86.747629  True"
      ]
     },
     "execution_count": 51,
     "metadata": {},
     "output_type": "execute_result"
    }
   ],
   "source": [
    "# check each group for normality\n",
    "\n",
    "# create dictionary to save results\n",
    "norm_results = {}\n",
    "\n",
    "# iterate through groups dictionary\n",
    "for region, data in groups.items():\n",
    "    \n",
    "    # get the test stat and p-value from doing a normality test\n",
    "    stat, p = stats.normaltest(data)\n",
    "    \n",
    "    # save to dictionary; include the size of the group\n",
    "    norm_results[region] = {'n': len(data),\n",
    "                           'p': p,\n",
    "                           'test stat': stat}\n",
    "    \n",
    "# convert to df\n",
    "norm_results_df = pd.DataFrame(norm_results).T\n",
    "\n",
    "# add column to show if p-value < 0.05\n",
    "norm_results_df['sig'] = norm_results_df['p'] < 0.05\n",
    "\n",
    "# show\n",
    "norm_results_df"
   ]
  },
  {
   "cell_type": "markdown",
   "id": "71a301fe",
   "metadata": {},
   "source": [
    "All regions' p-values are below our chosen alpha of 0.05, so we can reject the null hypothesis of the normality test that the sample comes from a normal distribution. Therefore, we consider the charges to be NOT normally distributed.\n",
    "\n",
    "Although the charges for the regions are NOT normally distributed, we have more than 20-30 observations in each region. This is large enough to continue with the ANOVA."
   ]
  },
  {
   "cell_type": "code",
   "execution_count": 52,
   "id": "2dc74f56",
   "metadata": {},
   "outputs": [
    {
     "name": "stdout",
     "output_type": "stream",
     "text": [
      "Outliers for southwest: 8\n",
      "94      47291.05500\n",
      "251     47305.30500\n",
      "1284    47403.88000\n",
      "328     47928.03000\n",
      "39      48173.36100\n",
      "175     48824.45000\n",
      "34      51194.55914\n",
      "1146    52590.82939\n",
      "Name: charges, dtype: float64\n",
      "\n",
      "Outliers for southeast: 2\n",
      "1300    62592.87309\n",
      "543     63770.42801\n",
      "Name: charges, dtype: float64\n",
      "\n",
      "Outliers for northwest: 7\n",
      "569     45702.02235\n",
      "677     46130.52650\n",
      "1122    46661.44240\n",
      "1301    46718.16325\n",
      "55      47496.49445\n",
      "819     55135.40209\n",
      "1230    60021.39897\n",
      "Name: charges, dtype: float64\n",
      "\n",
      "Outliers for northeast: 4\n",
      "288    47896.79135\n",
      "330    48517.56315\n",
      "281    48549.17835\n",
      "577    58571.07448\n",
      "Name: charges, dtype: float64\n",
      "\n"
     ]
    }
   ],
   "source": [
    "# check for and remove outliers\n",
    "\n",
    "# iterate through groups\n",
    "for region, charges in groups.items():\n",
    "    zscores = stats.zscore(charges)\n",
    "    outliers = abs(zscores) > 3\n",
    "    print(f\"Outliers for {region}: {np.sum(outliers)}\")\n",
    "    print(charges[(np.abs(stats.zscore(charges)) > 3)].sort_values())\n",
    "    print()"
   ]
  },
  {
   "cell_type": "code",
   "execution_count": 53,
   "id": "d72e5a2c",
   "metadata": {},
   "outputs": [],
   "source": [
    "# delete outliers\n",
    "for region, charges in groups.items():\n",
    "    groups[region] = charges[(np.abs(stats.zscore(charges)) <= 3)]"
   ]
  },
  {
   "cell_type": "markdown",
   "id": "7690b072",
   "metadata": {},
   "source": [
    "To check if the outliers were removed, we can see if there are any charges at the lowest amount of outlier charges or above for each region."
   ]
  },
  {
   "cell_type": "code",
   "execution_count": 54,
   "id": "59e770a8",
   "metadata": {},
   "outputs": [
    {
     "name": "stdout",
     "output_type": "stream",
     "text": [
      "southwest max charges: 46113.511\n",
      "southeast max charges: 49577.6624\n",
      "northwest max charges: 43943.8761\n",
      "northeast max charges: 46255.1125\n"
     ]
    }
   ],
   "source": [
    "# check if outliers were removed\n",
    "for region, charges in groups.items():\n",
    "    print(f\"{region} max charges: {charges.max()}\")"
   ]
  },
  {
   "cell_type": "markdown",
   "id": "c12f5481",
   "metadata": {},
   "source": [
    "All the outliers were removed."
   ]
  },
  {
   "cell_type": "code",
   "execution_count": 55,
   "id": "ea520671",
   "metadata": {},
   "outputs": [
    {
     "data": {
      "text/plain": [
       "LeveneResult(statistic=9.518349004554441, pvalue=3.2035503711783993e-06)"
      ]
     },
     "execution_count": 55,
     "metadata": {},
     "output_type": "execute_result"
    }
   ],
   "source": [
    "# check for equal variance\n",
    "result = stats.levene(*groups.values())\n",
    "result"
   ]
  },
  {
   "cell_type": "markdown",
   "id": "eb808728",
   "metadata": {},
   "source": [
    "The p-value for our equal variance test is below our chosen alpha value of 0.05, so we will reject the null hypothesis that these groups have equal variances.\n",
    "\n",
    "This means that we will consider these two groups to have UNEQUAL (different) variances.\n",
    "\n",
    "Instead of the ANOVA test, we will run the nonparametric Kruskal-Wallis test instead, which does not require that the data have equal variance."
   ]
  },
  {
   "cell_type": "markdown",
   "id": "35feed8b",
   "metadata": {},
   "source": [
    "## 4.4 Execute Test (Kruskal-Wallis)"
   ]
  },
  {
   "cell_type": "code",
   "execution_count": 56,
   "id": "f834e5e7",
   "metadata": {},
   "outputs": [
    {
     "data": {
      "text/plain": [
       "KruskalResult(statistic=6.914045702545643, pvalue=0.07468847911322242)"
      ]
     },
     "execution_count": 56,
     "metadata": {},
     "output_type": "execute_result"
    }
   ],
   "source": [
    "# one-way ANOVA\n",
    "result = stats.kruskal(*groups.values())\n",
    "result"
   ]
  },
  {
   "cell_type": "markdown",
   "id": "485f8491",
   "metadata": {},
   "source": [
    "## 4.5 p-value Interpretation (Kruskal-Wallis)"
   ]
  },
  {
   "cell_type": "markdown",
   "id": "29809765",
   "metadata": {},
   "source": [
    "The p-value from the Kruskal-Wallis test is just above our chosen alpha of 0.05, meaning that we cannot reject the null hypothesis that the regions' charges have no statistically significant difference.\n",
    "\n",
    "We conclude that the different regions have statistically similar insurance charges."
   ]
  },
  {
   "cell_type": "markdown",
   "id": "24b2aa70",
   "metadata": {},
   "source": [
    "## 4.6 Supporting Visualization"
   ]
  },
  {
   "cell_type": "code",
   "execution_count": 57,
   "id": "37613b30",
   "metadata": {},
   "outputs": [
    {
     "data": {
      "image/png": "[encoded data removed]",
      "text/plain": [
       "<Figure size 640x480 with 1 Axes>"
      ]
     },
     "metadata": {},
     "output_type": "display_data"
    }
   ],
   "source": [
    "# barplot to compare means (charges) of regions\n",
    "ax = sns.barplot(data = df, x = 'region', y = 'charges')\n",
    "ax.set_title('Charges by Region');"
   ]
  },
  {
   "cell_type": "code",
   "execution_count": 58,
   "id": "356f7b1e",
   "metadata": {},
   "outputs": [
    {
     "data": {
      "image/png": "[encoded data removed]",
      "text/plain": [
       "<Figure size 600x1200 with 4 Axes>"
      ]
     },
     "metadata": {},
     "output_type": "display_data"
    }
   ],
   "source": [
    "# show distributions of charges for each region\n",
    "\n",
    "# create figure with subplots\n",
    "fig, axes = plt.subplots(nrows = 4,\n",
    "                        ncols = 1,\n",
    "                        figsize = (6, 12))\n",
    "\n",
    "num = 0\n",
    "\n",
    "# iterate over categories and plot histograms\n",
    "for region, charges in groups.items():\n",
    "    \n",
    "    # select subplot\n",
    "    ax = axes[num]\n",
    "    \n",
    "    # plot histogram\n",
    "    ax.hist(charges)\n",
    "    \n",
    "    # set title\n",
    "    ax.set_title(f\"{region}\")\n",
    "    \n",
    "    # increment n\n",
    "    num += 1\n",
    "    \n",
    "# adjust spacing and show\n",
    "fig.tight_layout()\n",
    "plt.show();"
   ]
  },
  {
   "cell_type": "markdown",
   "id": "2725eb34",
   "metadata": {},
   "source": [
    "# Notes\n",
    "\n",
    "If T-statistic is 1.96 (~ 2), then p-value is 0.05."
   ]
  },
  {
   "cell_type": "code",
   "execution_count": null,
   "id": "3e8629db",
   "metadata": {},
   "outputs": [],
   "source": []
  }
 ],
 "metadata": {
  "kernelspec": {
   "display_name": "Python (dojo-env)",
   "language": "python",
   "name": "dojo-env"
  },
  "language_info": {
   "codemirror_mode": {
    "name": "ipython",
    "version": 3
   },
   "file_extension": ".py",
   "mimetype": "text/x-python",
   "name": "python",
   "nbconvert_exporter": "python",
   "pygments_lexer": "ipython3",
   "version": "3.9.15"
  },
  "toc": {
   "base_numbering": 1,
   "nav_menu": {},
   "number_sections": false,
   "sideBar": true,
   "skip_h1_title": false,
   "title_cell": "Table of Contents",
   "title_sidebar": "Contents",
   "toc_cell": false,
   "toc_position": {},
   "toc_section_display": true,
   "toc_window_display": false
  }
 },
 "nbformat": 4,
 "nbformat_minor": 5
}
